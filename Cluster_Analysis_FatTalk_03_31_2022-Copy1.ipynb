{
 "cells": [
  {
   "cell_type": "code",
   "execution_count": 1,
   "id": "496be225",
   "metadata": {},
   "outputs": [
    {
     "name": "stderr",
     "output_type": "stream",
     "text": [
      "[nltk_data] Downloading package punkt to\n",
      "[nltk_data]     /Users/brajeshkarna/nltk_data...\n",
      "[nltk_data]   Package punkt is already up-to-date!\n"
     ]
    },
    {
     "data": {
      "text/plain": [
       "True"
      ]
     },
     "execution_count": 1,
     "metadata": {},
     "output_type": "execute_result"
    }
   ],
   "source": [
    "import pandas as pd\n",
    "import numpy as np\n",
    "import seaborn as sns\n",
    "import matplotlib.pyplot as plt\n",
    "\n",
    "import re\n",
    "import preprocessor as p\n",
    "\n",
    "import string\n",
    "from string import punctuation\n",
    "\n",
    "import collections\n",
    "from collections import Counter\n",
    "\n",
    "import nltk\n",
    "from nltk.tokenize import RegexpTokenizer, WhitespaceTokenizer\n",
    "from nltk.stem import WordNetLemmatizer\n",
    "from nltk.corpus import stopwords\n",
    "\n",
    "\n",
    "from sklearn.feature_extraction.text import CountVectorizer,TfidfVectorizer\n",
    "from sklearn.feature_extraction.text import CountVectorizer, TfidfTransformer\n",
    "from sklearn.model_selection import train_test_split\n",
    "from sklearn.metrics.pairwise import cosine_similarity\n",
    "from sklearn.metrics import jaccard_score\n",
    "\n",
    "\n",
    "import en_core_web_sm\n",
    "nltk.download('punkt')"
   ]
  },
  {
   "cell_type": "markdown",
   "id": "c7c0da80",
   "metadata": {},
   "source": [
    "## Load Tweets"
   ]
  },
  {
   "cell_type": "code",
   "execution_count": 2,
   "id": "1b360a4d",
   "metadata": {},
   "outputs": [
    {
     "name": "stderr",
     "output_type": "stream",
     "text": [
      "/var/folders/d9/ghy46zzj2454k38j3h7282mr0000gn/T/ipykernel_8878/104894681.py:5: DtypeWarning: Columns (0,1,2,3,4,5,6,7,8,9,10,11,12,15,16,17,18,19,20,21,24,25,26,27) have mixed types.Specify dtype option on import or set low_memory=False.\n",
      "  tweetDf = LoadTweetFile()\n"
     ]
    }
   ],
   "source": [
    "def LoadTweetFile():\n",
    "    data = pd.read_csv(\"/Users/brajeshkarna/Documents/FatTalk/combined_tweets_2021.csv\")\n",
    "    return data\n",
    "\n",
    "tweetDf = LoadTweetFile()"
   ]
  },
  {
   "cell_type": "markdown",
   "id": "fe04cd25",
   "metadata": {},
   "source": [
    "### Select tweets for date range and clean tweets, remove hashtags too from the tweets"
   ]
  },
  {
   "cell_type": "code",
   "execution_count": 3,
   "id": "8f48d3c9",
   "metadata": {},
   "outputs": [],
   "source": [
    "tweets_bowl = pd.DataFrame(tweetDf[['user_id', 'tweet','tweet_created_at','user_username','searchquery']])\n",
    "#removing if there is string on date columns and making index and sorting by the date\n",
    "tweets_bowl['tweet_created_at'] = pd.to_datetime(tweets_bowl['tweet_created_at'], errors='coerce')\n",
    "tweets_bowl = tweets_bowl.dropna(subset=['tweet_created_at'])\n",
    "tweets_bowl = tweets_bowl.set_index(tweets_bowl['tweet_created_at'])\n",
    "tweets_bowl = tweets_bowl.sort_index()\n",
    "##Split data based on date\n",
    "#tweets_bowl = tweets_bowl['2021-11-23': '2021-11-26']"
   ]
  },
  {
   "cell_type": "code",
   "execution_count": 4,
   "id": "9f95b1e5",
   "metadata": {},
   "outputs": [],
   "source": [
    "def clean_text(df, text_field):\n",
    "    df[text_field] = df[text_field].str.lower()\n",
    "    df['tweets'] = df[text_field].apply(lambda x: re.sub(r'(@[A-Za-z0–9]+)|([0-9A-Za-z \\t])|(\\w+:\\/\\/\\S+)|^rt|http.+?','', x)) \n",
    "    return df\n",
    "\n",
    "tweets_bowl = clean_text(tweets_bowl, 'tweet')\n",
    "\n",
    "REPLACE_NO_SPACE = re.compile(\"(\\.)|(\\;)|(\\:)|(\\!)|(\\')|(\\?)|(\\,)|(\\\")|(\\|)|(\\()|(\\))|(\\[)|(\\])|(\\%)|(\\$)|(\\>)|(\\<)|(\\{)|(\\})\")\n",
    "REPLACE_WITH_SPACE = re.compile(\"(<br\\s/><br\\s/?)|(-)|(/)|(:).\")\n",
    "\n",
    "def clean_tweets(df):\n",
    "  tempArr = []\n",
    "  for line in df:\n",
    "    p.set_options(p.OPT.URL, p.OPT.EMOJI, p.OPT.MENTION, p.OPT.SMILEY, p.OPT.NUMBER,p.OPT.RESERVED)\n",
    "    tmpL = p.clean(line)\n",
    "    tmpL = REPLACE_NO_SPACE.sub(\"\", tmpL.lower()) \n",
    "    tmpL = REPLACE_WITH_SPACE.sub(\" \", tmpL)\n",
    "    tempArr.append(tmpL)\n",
    "  return tempArr\n",
    "\n",
    "\n",
    "tweets_bowl['tweets'] = clean_tweets(tweets_bowl['tweet'])\n",
    "tweets_bowl['tweets'] = tweets_bowl['tweets'].apply(lambda x: x.replace('#', ''))"
   ]
  },
  {
   "cell_type": "markdown",
   "id": "6053b864",
   "metadata": {},
   "source": [
    "### Furnish tweets"
   ]
  },
  {
   "cell_type": "code",
   "execution_count": 5,
   "id": "3f5b6d62",
   "metadata": {},
   "outputs": [],
   "source": [
    "nlp = en_core_web_sm.load()\n",
    "tokenizer = RegexpTokenizer(r'\\w+')\n",
    "lemmatizer = WordNetLemmatizer()\n",
    "stop = set(stopwords.words('english'))\n",
    "punctuation = list(string.punctuation)\n",
    "stop.update(punctuation)\n",
    "w_tokenizer = WhitespaceTokenizer()\n",
    "\n",
    "def furnished(text):\n",
    "    final_text = []\n",
    "    for i in w_tokenizer.tokenize(text):\n",
    "       if i.lower() not in stop:\n",
    "           word = lemmatizer.lemmatize(i)\n",
    "           final_text.append(word.lower())\n",
    "    return \" \".join(final_text)\n",
    "\n",
    "\n",
    "tweets_bowl.tweets = tweets_bowl.tweets.apply(furnished)"
   ]
  },
  {
   "cell_type": "markdown",
   "id": "0283956e",
   "metadata": {},
   "source": [
    "### Dictionary words for domains"
   ]
  },
  {
   "cell_type": "code",
   "execution_count": 6,
   "id": "da43b639",
   "metadata": {},
   "outputs": [],
   "source": [
    "fat_related_words = '''Heavy Excess weight Excess fat Overweight Big Weight problem Obese Obesity\n",
    "Obeast Large Large size Hefty High BMI Fat Fatness heffer Huge Thick Thicc/thiccc Thict thic fit\n",
    "Thiccums Thickie THICCCCC Thickness Plump plumper Round Unfit Fluffy unhealthy Unhealthy BMI Unhealthy weight\n",
    "BMI Unhealthy body weight Heaviness Back fat Gaining weight Normal weight Chubby Chubble Chubbin’\n",
    "Chubblies chubby breasts Chubba Chubby rubby Gordo Morbid obesity Plus size Curvy Full figured\n",
    "Weight problem Big boned Well endowed Big girl Fat slob Voluptuous Husky Huskaroo Chunky Piernuda leggy referring to thigh size\n",
    "Nalgona big butt Fat ass FUPA fat upper pubic area FUPA fat upper pussy area Phanny pack same as FUPA Fat fuck\n",
    "Fat fucking'''"
   ]
  },
  {
   "cell_type": "code",
   "execution_count": 7,
   "id": "698c8943",
   "metadata": {},
   "outputs": [],
   "source": [
    "economy_related_words = '''agriculture infrastructure capitalism trading service sector technology  economical supply \n",
    "industrialism efficiency frugality retrenchment downsizing   credit debit value \n",
    "economize   save  economically\n",
    "economies sluggish rise   rising spending conserve trend \n",
    "low-management  decline   industry impact poor  \n",
    "profession    surplus   fall\n",
    "declining  accelerating interest sectors balance stability productivity increase rates\n",
    "pushing expanding stabilize  rate industrial borrowing struggling\n",
    "deficit predicted    increasing  data\n",
    "economizer analysts investment market-based economy   debt free enterprise\n",
    "medium  exchange metric savepoint scarcity capital bank company stockholder fund business  \n",
    "asset treasury tourism incomes contraction employment jobs upturn deflation  macroeconomics\n",
    "bankruptcies exporters hyperinflation dollar entrepreneurship upswing marketplace commerce devaluation \n",
    "quicksave deindustrialization stockmarket reflation downspin dollarization withholder bankroll venture capital\n",
    "mutual fund plan economy mortgage lender unemployment rate credit crunch central bank financial institution\n",
    "bank rate custom duties mass-production black-market developing-countries developing economic-growth gdp trade barter \n",
    "distribution downturn economist'''"
   ]
  },
  {
   "cell_type": "code",
   "execution_count": 8,
   "id": "190f7066",
   "metadata": {},
   "outputs": [],
   "source": [
    "social_related_words = '''sociable, gregarious societal friendly society socialization political  sociality \n",
    "interpersonal  ethnic socially party welfare public community socialist societies development\n",
    "network humans socialism collective personal corporation social constructivism\n",
    "relations volition citizenship brute   attitude rights socio \n",
    "socioeconomic ethics civic communal marital  sociale socialized communities     \n",
    "policy   unions        \n",
    "institutions values     governmental   organizations jamboree \n",
    "festivity    fairness  support  care  \n",
    "sides   activism     unsocial psychosocial \n",
    "socializing psychological distributional  demographic  participation reunion \n",
    "partygoer partyism festive power network gala housewarming celebration counterparty   social-war\n",
    "particularist interactional ideational asocial'''"
   ]
  },
  {
   "cell_type": "code",
   "execution_count": 9,
   "id": "8ed7cc5f",
   "metadata": {},
   "outputs": [],
   "source": [
    "culture_related_words  = ''' ethnicity heritage modernity spirituality marxismmaterial culture \n",
    "ethos nationality humanism romanticism civilisation traditionalism genetics\n",
    "kinship heredity marriage   indigenous  archeology  acculturate  \n",
    "ontogenesis viniculture modern clothes     rooted \n",
    "cicero societies history roots influence geography historical folk origins \n",
    "phenomenon teleology ancient aspects perspective liberalism nowadays community style unique prevalent describes \n",
    "today  origin   modernity beliefs  genre barbarian ethnic \n",
    "colonization cultural universal organization western-civilization structuralism  culture \n",
    "heathen pagan transculturation culture peasant classicist nativism anarchy ungrown philosophic cult  \n",
    "consciousness islamist bro-culture evolve cultic diaspora aftergrowth native cultural-relativism  \n",
    "mongolian cosmopolitan epistemology lifestyles diversity chauvinism westernization materialism vernacular \n",
    "homogeneity otherness holism tusculanae disputationes primitivism superficiality hedonism discourse\n",
    "puritanism modernism intellectualism  exclusiveness elitism  colonialism  \n",
    "pentecostalism paganism nationwide expansion rural  auxesis kimono \n",
    "culturize alethophobia nettlebed japanification  dongyi clannishness insularity hybridity\n",
    "westernisation foreignness worldview exclusionism enculturation ethnocentrism  confucianist vulgarization\n",
    "shintoism  westernism denominationalism    deracination\n",
    "eurocentrism  cosmologies  emotiveness bohemianism territorialism\n",
    "philosophical-doctrine ethnic minority social-darwinism  theory cultural evolution belief systemfolk music \n",
    "traditional art house karl-marx   theorymedia  \n",
    "film-theory art history museum studies cultural artifact'''"
   ]
  },
  {
   "cell_type": "code",
   "execution_count": 10,
   "id": "429323ff",
   "metadata": {},
   "outputs": [],
   "source": [
    "health_related_words = '''disease obesity world health organization medicine nutrition well-being exercise welfare wellness health care public health \n",
    "nursing stress safety hygiene research social healthy condition aids epidemiology healthiness wellbeing\n",
    "care illness medical dieteducation infectious disease environmental healthcare physical fitness hospitals \n",
    "health care provider doctors healthy community design insurance sanitation human body patient mental health\n",
    "medicare agriculture health science fitnesshealth policy  weight loss physical therapy psychology pharmacy\n",
    "metabolic organism human lifestyle status unhealthy upbeat vaccination sleep condom alcohol smoking water family\n",
    "eudaimonia eudaemonia air house prevention genetics public families poor needs treatment communicable disease \n",
    "study protection malaria development food priority management healthful mental provide department administration\n",
    "programs help assistance funding environment improving emergency need program affected schools private mental illness \n",
    "treat diseases preparedness perinatal fertility sickness veterinary sanitary pharmacists behavioral midwives\n",
    "gerontology infertility hospitalization midwifery cholesterol childcare pediatrician pediatrics medicaid asthma \n",
    "pensions sicknesses push-up physical education body-mass-index eat well gymnastic apparatus tune up good morning \n",
    "bathing low blood-pressure heart attack health club ride-bike you feel good eczema urticaria dermatitis sunburn overwork \n",
    "manufacturing medical sociology need exercise run'''"
   ]
  },
  {
   "cell_type": "code",
   "execution_count": 20,
   "id": "73690e01",
   "metadata": {},
   "outputs": [],
   "source": [
    "new_fat_vocab = '''fat like feel look belly people actually body weight get he big good as cause amp know telling make think say really want god lose much son mama would bc see health even time war eat day way right still also someone got diet love need man skinny weightloss something person thor food every loss healthy tell back fatphobia bad fucking wanna overweight going today getting here better never life af strength fitness well obese old shit help eating showing upset winner take work stop dm around lot aid woman made happy strongman bodybuilder always martin competition ignorance dehydrated weakest licis new fuck since there hate white lol doesnt gonna ill exercise beautiful ever ugly talk best thing free guy fatloss thin joe playing first many nice keep important muscle last little try fit thigh picture yall looking call size without burn saying everyone making face bmi long real workout trying literally week called gain gym come sick tweet sure feeling far nutrition treating year wrong everything chubby warrior le girl black pretty tired thought hard losing edtwt nordic miss mean pic lost theology suppremacist fertiliy bitch low waist reduce anything nothing go yeah full men high sorry kid care lb single night great find obesity kind working give away married used skin truth gorgeous start thinking may ur extremely whole enough special father anyone grand rising live fast protein sends nigeria lucky post damn point maybe already funny loseweight energy order stomach might next dress month reason shaming perfect cat remember covid show coffee friend meal weightlossjourney another probably saw cute heart rid narrative hot shes child sugar watch home increase type flat idk else calorie read seeing part justin baby fact taking respectful actively mistreats different tea family natural head world calling believe talking hurt bit either started lmao self finally cream rn morning tho super fan exist boy extra ago least parent spilled ate bear wish become small beauty change huge house plus sometimes seen arm found living instead burning took sad video hope clothes leg mom therefore top walk ask lifestyle follow binging arent unhealthy shape thanksgiving side keto ja short support money metabolism easy bullied tried shouldnt disgusting guess wear stubborn check result stupid game wanted wasnt pound normal thick school die often understand rest especially hell within gross needed blood almost fun true drinking stuff cope character looked cut end watching trans strong rule anymore lady enjoy mind verzuz coming medical stay others kinda wellness plan problem tonight water left fine wait average omg lower bro weird dr whatsapp amazing mad born mirror sleep nose dude respect half doctor absolutely human rather negative hungry social question mythology learn hair name gotta carbs able cuz motivation hit drink havent idea trainer ready tomorrow healthylifestyle allowed progressive brown insecure duty fatty couldnt government experience actual daily who amount honestly thread store pant overfeed buy gained matter worst risk round training learned due kg worry twitter shame wouldnt fatspo slimming medium horrible marvel lean tummy eye excess hour rich per thanks fasting tf lazy whatever line slim weightlosstransformation online gay unlike definitely tit pay kim goal bigger tu win cool control faster scared quickly v hear dysmorphia felt fatphobic realizing quick wearing lt treat glad second cock herb proud word asked butt play longer available positivity ed easily completely fear design art reminder bellyfat sex explain pack weightlosstips asking disabled place scam quite dick hand course leave penis liberal case imagine depicted issue gone sit worse giving run sir chiseled agree perpetual putting drawing youve non book system pls lie accent outside diabetes dawn tip refuse age based pm blond came large soon delivery traduire chance peux stp bonespo success together brain fatness cry straight poor constantly drop bought appointment draw hugging walking meat enlargement eddiethedermatologist overeat lil personal turn tall supposed dad crazy mentally enlarge intake focus unlearn pain sliming bring soft story racist wonder ugh cardio bed avoid fatburner pussy sitting joke sexy nigga anyway bcs entire positive healthcare young photo build wtf later exactly add break ab folk whenever pregnant job share open program visit prey past yesterday improve disease period nobody youll stress physical claim effective account deal supplement struggle simple ingredient summer starting sense safe simply shirt mass behind dumb healthier kill choose season listening class herbalife scream tiny business btw kimcoffeeroastersuganda juicy animal feed move basically advice red running seriously benefit biggest genuinely fatburning ice fatter news th official attractive wrist reading starving kept choice cannot irl reach heavy mental excuse seems fight fatburn minute society bag designed crush suck front salary forever anti cholesterol unless wow comment alone set helped deep stiff missing tbh close power gave la powerful flab late hearing intact include survive piece milk listen struggling contact discriminate bloated teenager team however till mouth dog level loose notice rubinadilaik naturally tone vaccine inner abt mine public em worth dinner higher otis science death style room gut muscular pig review usually fitnessmotivation chip loving cold following deserve chronically standard height wife scale number source except join possible band vitamin favorite difference egg solution liver dead answer million mostly neck content asexual breakfast reducing indigenous potato gaining finger booty angry truly heard binge main friendly healthyliving chicken excited older forget loses java oil hip fabric voice weightlossmotivation mother personally dark wolf tw effect net image boob stand theyve knew lowcarb seem realize awesome holding serious carb raise fake thankful alot act burner happen king uncomfortable justify easier healthyeating everyday moment music monthly wanting roll perk de holy jean clear funded werent state green effort conclusion chris phobic price experiment list attack known starve butter article vaccinated broke discovery community cheek loved send complete original inside surgery husband titty tight dying recently honest relationship kl gorge zero liberation shut root product improves leo kwa friday according middle nah apparently early comfortable allowance cheese shop cals kick na changed transformation preferential weak rmk built country helping embarrassing menteris certain cow abundant light double cw shed weightgain insulin male woke group accept massive decided vegan unwanted throw trust fuvk ball pasta confident bastard meant mfuko channeling information air couple journey grade grown pregnancy fundis shamed nikatoa nimerudi company chest impossible treated regular youd likely imply implying weigh target sweet mention worked bodybuilding clearly delicious military movie tool bet harder study knowing song bank achieve term ugw co shaking forward car fall phone pick usa figure tend nutritious theyll thinspo beer underweight tiktok progress american hold haha dieting coaching nap phobia fr smile dating lying grow research building afraid button pull hospital lord annoying annoyed challenge spend kidding winter protect evening swear fix expect dream political form grope alive healthyfood taste gotten suffering trash pure lately luck yoga wedding wide aware diabetic noticed waiting sat champion pizza orange retweet sized mentalhealth weekend younger slow bone plenty currently lunch carbohydrate fucked upper anxiety thinner general expert melt grateful near rlly pas culture discourse caught fuckin abdominal provide brother obviously speak female sister stuck deny smaller perfectly ig se bunny poop cancer guide pill wake introducing stored totally smoke fire development bothered inherently happened although ass boost percentage whale antioxidant somehow suit fault barely statistical moderation party appreciated force awful area active beat detox register future extreme met fatigue ashamed somebody glucose standing anybody depressed bout turned remove happens reduced mf tear useless offer surprised fashion hyper ex foot treatment pre despite diagnosed st hide pointed none growing arse accurate date smoking restricting nft realized asf discovered code space taken fitoont bacon toxic bruh cell spent common tv considered distribution energizes johnson save ik personality meet stick cake sound appetite testosterone bug affordable interesting banana lack attention fox duck sunday create contains club given bettertogether sell bottom cooking grab fighting terrible burnfat loser version scientist christmas eugenics uncontrollably shocking warm reality busy trump bunch ultimate lead lovely reaching depression cook b individual sun jealous otherwise process anorexic coz clean daniel bread outfit stretch incl whether tonic eliminate pinned holiday step olestra desert insult paid relate laugh opinion queer km daddy gabby mood smart insect consider dear spike fruit curve died ima huh yea sign door fully catch birthday wall blog robinson fattofit grasshopper carry assed celebration compared nsenene inspired machine confidence weve wyoming changing brought drunk note touch ridiculous smh reduction blunt peace park rate finding petitos everybody hormone eats blackfriday origin biden bullying watched straining harming inflammation buckeye bombarded yr regardless unfold related habit geologist saturated primate onto played opposite blame anywhere giveaway forgot view max sort salt discover worried twice internet recommend miserable showed street chungus moving wrote vilified rd daughter site prefer interested covered secret throughout sport pandemic larger expertise lift crime total advised rib fuel snail lacking bf similar model properly drive stronger british romanticize minor blue offended immune sheet example burger shitty fair construct immediately including becomes towards giant tutorial ignore committed posted appreciate america shot fish coach cover everytime norse rubina overall constant continue okinawa episode keeping stopped market nd match pro buying warmer rank proportion chocolate turkey argument nut insane tryna pressure thicc anyways ruminating itll greek reduces bloating ancient uk systemic visceral majority subculture impact hang resistance dropping vendor scientific confirm icu info pentagon dangerous assuring push dirty caused access enlisted artist eaten write required tree sexualization ashanti dehumanization false glorification capitalism backbone pork intermittent quality shower follower lmfao nasty stressed ketodiet lay assume key response exposed mess desire allow everywhere along govt wild beyond choosing india weightlossdiet starved dietplan harmful includes imma thru physically posting exercising guilty stuffed pot complex forced bald lifting liked condition slightly rolling breaking steroid learning french confused recipe circle bullshit manifesting nearly difficult ideal ad cup fitfam sweating disorder across freaking dropped update allowing bully contest considering blush dey hiding acc decide greasy rice routine app laughing blow lockdown destroying losingweight youtube lion lip instagram obvious delete track idc waste shoulder helo beneficial vote ko decrease handsome collar mum compliment promote random incredibly angel violence biceps processed gender inspiration charge harm recovery highly touching metabolic skinnier cunt feeding min added alcohol japanese rude fresh entitled prevent becoming mindset fed illness purge history monday queen counting jesus existing massage legit salad deficit judge role rock da lonely rip palm favourite wrestle drug september evil lighter vax medicine maam dance yogurt decent lemon adding butchguts breathing weapon hating wet obeast hefty heffer thict thiccums thickie thiccccc thickness plump plumper unfit fluffy heaviness chubble chubbin‚äô chubblies chubba rubby gordo morbid curvy figured boned endowed slob voluptuous husky huskaroo chunky piernuda nalgona fupa phanny pubic breast thiccc'''"
   ]
  },
  {
   "cell_type": "code",
   "execution_count": 12,
   "id": "84457d9d",
   "metadata": {},
   "outputs": [],
   "source": [
    "fat = furnished(fat_related_words.lower())\n",
    "economy = furnished(economy_related_words)\n",
    "social = furnished(social_related_words)\n",
    "cultural = furnished(culture_related_words)\n",
    "health = furnished(health_related_words)\n",
    "new_fat_words = furnished(new_fat_vocab)"
   ]
  },
  {
   "cell_type": "code",
   "execution_count": 13,
   "id": "ee20d334",
   "metadata": {},
   "outputs": [
    {
     "data": {
      "text/plain": [
       "'fat like feel look belly people actually body weight get he big good as cause amp know telling make think say really want god lose much son mama would bc see health even time war eat day way right still also someone got diet love need man skinny weightloss something person thor food every loss healthy tell back fatphobia bad fucking wanna overweight going today getting here better never life af strength fitness well obese old shit help eating showing upset winner take work stop dm around lot aid woman made happy strongman bodybuilder always martin competition ignorance dehydrated weakest licis new fuck since there hate white lol doesnt gonna ill exercise beautiful ever ugly talk best thing free guy fatloss thin joe playing first many nice keep important muscle last little try fit thigh picture yall looking call size without burn saying everyone making face bmi long real workout trying literally week called gain gym come sick tweet sure feeling far nutrition treating year wrong everything chubby warrior le girl black pretty tired thought hard losing edtwt nordic miss mean pic lost theology suppremacist fertiliy bitch low waist reduce anything nothing go yeah full men high sorry kid care lb single night great find obesity kind working give away married used skin truth gorgeous start thinking may ur extremely whole enough special father anyone grand rising live fast protein sends nigeria lucky post damn point maybe already funny loseweight energy order stomach might next dress month reason shaming perfect cat remember covid show coffee friend meal weightlossjourney another probably saw cute heart rid narrative hot shes child sugar watch home increase type flat idk else calorie read seeing part justin baby fact taking respectful actively mistreats different tea family natural head world calling believe talking hurt bit either started lmao self finally cream rn morning tho super fan exist boy extra ago least parent spilled ate bear wish become small beauty change huge house plus sometimes seen arm found living instead burning took sad video hope clothes leg mom therefore top walk ask lifestyle follow binging arent unhealthy shape thanksgiving side keto ja short support money metabolism easy bullied tried shouldnt disgusting guess wear stubborn check result stupid game wanted wasnt pound normal thick school die often understand rest especially hell within gross needed blood almost fun true drinking stuff cope character looked cut end watching trans strong rule anymore lady enjoy mind verzuz coming medical stay others kinda wellness plan problem tonight water left fine wait average omg lower bro weird dr whatsapp amazing mad born mirror sleep nose dude respect half doctor absolutely human rather negative hungry social question mythology learn hair name gotta carbs able cuz motivation hit drink havent idea trainer ready tomorrow healthylifestyle allowed progressive brown insecure duty fatty couldnt government experience actual daily who amount honestly thread store pant overfeed buy gained matter worst risk round training learned due kg worry twitter shame wouldnt fatspo slimming medium horrible marvel lean tummy eye excess hour rich per thanks fasting tf lazy whatever line slim weightlosstransformation online gay unlike definitely tit pay kim goal bigger tu win cool control faster scared quickly v hear dysmorphia felt fatphobic realizing quick wearing lt treat glad second cock herb proud word asked butt play longer available positivity ed easily completely fear design art reminder bellyfat sex explain pack weightlosstips asking disabled place scam quite dick hand course leave penis liberal case imagine depicted issue gone sit worse giving run sir chiseled agree perpetual putting drawing youve non book system pls lie accent outside diabetes dawn tip refuse age based pm blond came large soon delivery traduire chance peux stp bonespo success together brain fatness cry straight poor constantly drop bought appointment draw hugging walking meat enlargement eddiethedermatologist overeat lil personal turn tall supposed dad crazy mentally enlarge intake focus unlearn pain sliming bring soft story racist wonder ugh cardio bed avoid fatburner pussy sitting joke sexy nigga anyway bcs entire positive healthcare young photo build wtf later exactly add break ab folk whenever pregnant job share open program visit prey past yesterday improve disease period nobody youll stress physical claim effective account deal supplement struggle simple ingredient summer starting sense safe simply shirt mass behind dumb healthier kill choose season listening class herbalife scream tiny business btw kimcoffeeroastersuganda juicy animal feed move basically advice red running seriously benefit biggest genuinely fatburning ice fatter news th official attractive wrist reading starving kept choice cannot irl reach heavy mental excuse seems fight fatburn minute society bag designed crush suck front salary forever anti cholesterol unless wow comment alone set helped deep stiff missing tbh close power gave la powerful flab late hearing intact include survive piece milk listen struggling contact discriminate bloated teenager team however till mouth dog level loose notice rubinadilaik naturally tone vaccine inner abt mine public em worth dinner higher otis science death style room gut muscular pig review usually fitnessmotivation chip loving cold following deserve chronically standard height wife scale number source except join possible band vitamin favorite difference egg solution liver dead answer million mostly neck content asexual breakfast reducing indigenous potato gaining finger booty angry truly heard binge main friendly healthyliving chicken excited older forget loses java oil hip fabric voice weightlossmotivation mother personally dark wolf tw effect net image boob stand theyve knew lowcarb seem realize awesome holding serious carb raise fake thankful alot act burner happen king uncomfortable justify easier healthyeating everyday moment music monthly wanting roll perk de holy jean clear funded werent state green effort conclusion chris phobic price experiment list attack known starve butter article vaccinated broke discovery community cheek loved send complete original inside surgery husband titty tight dying recently honest relationship kl gorge zero liberation shut root product improves leo kwa friday according middle nah apparently early comfortable allowance cheese shop cals kick na changed transformation preferential weak rmk built country helping embarrassing menteris certain cow abundant light double cw shed weightgain insulin male woke group accept massive decided vegan unwanted throw trust fuvk ball pasta confident bastard meant mfuko channeling information air couple journey grade grown pregnancy fundis shamed nikatoa nimerudi company chest impossible treated regular youd likely imply implying weigh target sweet mention worked bodybuilding clearly delicious military movie tool bet harder study knowing song bank achieve term ugw co shaking forward car fall phone pick usa figure tend nutritious theyll thinspo beer underweight tiktok progress american hold haha dieting coaching nap phobia fr smile dating lying grow research building afraid button pull hospital lord annoying annoyed challenge spend kidding winter protect evening swear fix expect dream political form grope alive healthyfood taste gotten suffering trash pure lately luck yoga wedding wide aware diabetic noticed waiting sat champion pizza orange retweet sized mentalhealth weekend younger slow bone plenty currently lunch carbohydrate fucked upper anxiety thinner general expert melt grateful near rlly pas culture discourse caught fuckin abdominal provide brother obviously speak female sister stuck deny smaller perfectly ig se bunny poop cancer guide pill wake introducing stored totally smoke fire development bothered inherently happened although ass boost percentage whale antioxidant somehow suit fault barely statistical moderation party appreciated force awful area active beat detox register future extreme met fatigue ashamed somebody glucose standing anybody depressed bout turned remove happens reduced mf tear useless offer surprised fashion hyper ex foot treatment pre despite diagnosed st hide pointed none growing arse accurate date smoking restricting nft realized asf discovered code space taken fitoont bacon toxic bruh cell spent common tv considered distribution energizes johnson save ik personality meet stick cake sound appetite testosterone bug affordable interesting banana lack attention fox duck sunday create contains club given bettertogether sell bottom cooking grab fighting terrible burnfat loser version scientist christmas eugenics uncontrollably shocking warm reality busy trump bunch ultimate lead lovely reaching depression cook b individual sun jealous otherwise process anorexic coz clean daniel bread outfit stretch incl whether tonic eliminate pinned holiday step olestra desert insult paid relate laugh opinion queer km daddy gabby mood smart insect consider dear spike fruit curve died ima huh yea sign door fully catch birthday wall blog robinson fattofit grasshopper carry assed celebration compared nsenene inspired machine confidence weve wyoming changing brought drunk note touch ridiculous smh reduction blunt peace park rate finding petitos everybody hormone eats blackfriday origin biden bullying watched straining harming inflammation buckeye bombarded yr regardless unfold related habit geologist saturated primate onto played opposite blame anywhere giveaway forgot view max sort salt discover worried twice internet recommend miserable showed street chungus moving wrote vilified rd daughter site prefer interested covered secret throughout sport pandemic larger expertise lift crime total advised rib fuel snail lacking bf similar model properly drive stronger british romanticize minor blue offended immune sheet example burger shitty fair construct immediately including becomes towards giant tutorial ignore committed posted appreciate america shot fish coach cover everytime norse rubina overall constant continue okinawa episode keeping stopped market nd match pro buying warmer rank proportion chocolate turkey argument nut insane tryna pressure thicc anyways ruminating itll greek reduces bloating ancient uk systemic visceral majority subculture impact hang resistance dropping vendor scientific confirm icu info pentagon dangerous assuring push dirty caused access enlisted artist eaten write required tree sexualization ashanti dehumanization false glorification capitalism backbone pork intermittent quality shower follower lmfao nasty stressed ketodiet lay assume key response exposed mess desire allow everywhere along govt wild beyond choosing india weightlossdiet starved dietplan harmful includes imma thru physically posting exercising guilty stuffed pot complex forced bald lifting liked condition slightly rolling breaking steroid learning french confused recipe circle bullshit manifesting nearly difficult ideal ad cup fitfam sweating disorder across freaking dropped update allowing bully contest considering blush dey hiding acc decide greasy rice routine app laughing blow lockdown destroying losingweight youtube lion lip instagram obvious delete track idc waste shoulder helo beneficial vote ko decrease handsome collar mum compliment promote random incredibly angel violence biceps processed gender inspiration charge harm recovery highly touching metabolic skinnier cunt feeding min added alcohol japanese rude fresh entitled prevent becoming mindset fed illness purge history monday queen counting jesus existing massage legit salad deficit judge role rock da lonely rip palm favourite wrestle drug september evil lighter vax medicine maam dance yogurt decent lemon adding butchguts breathing weapon hating wet obeast hefty heffer thict thiccums thickie thiccccc thickness plump plumper unfit fluffy heaviness chubble chubbin‚äô chubblies chubba rubby gordo morbid curvy figured boned endowed slob voluptuous husky huskaroo chunky piernuda nalgona fupa phanny pubic breast thiccc'"
      ]
     },
     "execution_count": 13,
     "metadata": {},
     "output_type": "execute_result"
    }
   ],
   "source": [
    "string1 = fat\n",
    "words = string1.split()\n",
    "fat = \" \".join(sorted(set(words), key=words.index))\n",
    "fat\n",
    "\n",
    "string2 = economy\n",
    "words = string2.split()\n",
    "economy = \" \".join(sorted(set(words), key=words.index))\n",
    "economy\n",
    "\n",
    "string3 = social\n",
    "words = string3.split()\n",
    "social = \" \".join(sorted(set(words), key=words.index))\n",
    "social\n",
    "\n",
    "string4 = cultural\n",
    "words = string4.split()\n",
    "cultural = \" \".join(sorted(set(words), key=words.index))\n",
    "cultural\n",
    "\n",
    "string5 = health\n",
    "words = string5.split()\n",
    "health = \" \".join(sorted(set(words), key=words.index))\n",
    "health\n",
    "\n",
    "string6 = new_fat_words\n",
    "words = string6.split()\n",
    "new_fat_words = \" \".join(sorted(set(words), key=words.index))\n",
    "new_fat_words"
   ]
  },
  {
   "cell_type": "markdown",
   "id": "b88c8774",
   "metadata": {},
   "source": [
    "### Jaccard Similarity Scores"
   ]
  },
  {
   "cell_type": "code",
   "execution_count": 14,
   "id": "78dfac04",
   "metadata": {},
   "outputs": [],
   "source": [
    "def jaccard_similarity(query, document):\n",
    "    intersection = set(query).intersection(set(document))\n",
    "    union = set(query).union(set(document))\n",
    "    return len(intersection)/len(union)\n",
    "\n",
    "def get_scores(group,tweets):\n",
    "    scores = []\n",
    "    for tweet in tweets:\n",
    "        s = jaccard_similarity(group, tweet)\n",
    "        scores.append(s)\n",
    "    return scores\n",
    "\n",
    "f_scores = get_scores(fat, tweets_bowl.tweets.to_list())\n",
    "e_scores = get_scores(economy, tweets_bowl.tweets.to_list())\n",
    "s_scores = get_scores(social, tweets_bowl.tweets.to_list())\n",
    "c_scores = get_scores(cultural, tweets_bowl.tweets.to_list())\n",
    "h_scores = get_scores(health, tweets_bowl.tweets.to_list())\n",
    "n_f_scores = get_scores(new_fat_words, tweets_bowl.tweets.to_list())\n",
    "\n",
    "\n",
    "# create a jaccard scored df.\n",
    "data  = {'names':tweets_bowl.user_username.to_list(),'fat_score': f_scores,'economic_score':e_scores,'social_score':s_scores,'cultural_score':c_scores,'new_fat_score':n_f_scores}\n",
    "\n",
    "scores_df = pd.DataFrame(data)"
   ]
  },
  {
   "cell_type": "code",
   "execution_count": 15,
   "id": "020f5eea",
   "metadata": {},
   "outputs": [],
   "source": [
    "def get_classes(l1, l2,l3,l4,l5):\n",
    "    fat1 = []\n",
    "    economy1 = []\n",
    "    social1 = []\n",
    "    cultural1 = []\n",
    "    new_fat_score1 =[]\n",
    "    \n",
    "    for i, j,k,l,n in zip(l1, l2,l3,l4,l5):\n",
    "        m = max(i, j)\n",
    "        if m == i:\n",
    "            fat1.append(1)\n",
    "        else:\n",
    "            fat1.append(0) \n",
    "        if m == j:\n",
    "            economy1.append(1)\n",
    "        else:\n",
    "            economy1.append(0)\n",
    "        if m == k:\n",
    "            social1.append(1)\n",
    "        else:\n",
    "            social1.append(0)   \n",
    "        if m == l:\n",
    "            cultural1.append(1)\n",
    "        else:\n",
    "            cultural1.append(0)   \n",
    "        if m == n:\n",
    "            new_fat_score1.append(1)\n",
    "        else:\n",
    "            new_fat_score1.append(0) \n",
    "            \n",
    "    return fat1,economy1,social1,cultural1,new_fat_score1\n",
    "\n",
    "l1 = scores_df.fat_score.to_list()\n",
    "l2 = scores_df.economic_score.to_list()\n",
    "l3 = scores_df.social_score.to_list()\n",
    "l4 = scores_df.cultural_score.to_list()\n",
    "l5 = scores_df.new_fat_score.to_list()\n"
   ]
  },
  {
   "cell_type": "code",
   "execution_count": 16,
   "id": "3fe3f0e0",
   "metadata": {},
   "outputs": [
    {
     "data": {
      "image/png": "[encoded data removed]",
      "text/plain": [
       "<Figure size 720x504 with 1 Axes>"
      ]
     },
     "metadata": {},
     "output_type": "display_data"
    }
   ],
   "source": [
    "fat1, economy1, social1, cultural1, new_fat_score1 = get_classes(l1, l2,l3,l4,l5)\n",
    "data = {'name': scores_df.names.to_list(), 'fat':fat1, 'economic':economy1,'social':social1,'cultural':cultural1, 'new_fat_words':new_fat_score1}\n",
    "class_df = pd.DataFrame(data)\n",
    "#grouping the tweets by username\n",
    "new_groups_df = class_df.groupby(['name']).sum()\n",
    "#add a new totals column\n",
    "new_groups_df['total'] = new_groups_df['fat'] + new_groups_df['economic'] + new_groups_df['social']+ new_groups_df['cultural'] + new_groups_df['new_fat_words'] \n",
    "#add a new totals row\n",
    "new_groups_df.loc[\"Total\"] = new_groups_df.sum()  \n",
    "\n",
    "fig = plt.figure(figsize =(10, 7)) \n",
    "a = new_groups_df.drop(['total'], axis = 1)\n",
    "plt.pie(a.loc['Total'], labels = a.columns)\n",
    "plt.title('A pie chart showing the volumes of tweets under different categories.')\n",
    "plt.show()\n"
   ]
  },
  {
   "cell_type": "code",
   "execution_count": 17,
   "id": "be67a443",
   "metadata": {},
   "outputs": [
    {
     "data": {
      "image/png": "[encoded data removed]",
      "text/plain": [
       "<Figure size 720x504 with 1 Axes>"
      ]
     },
     "metadata": {},
     "output_type": "display_data"
    }
   ],
   "source": [
    "fat2, economy2, social2, cultural2, new_fat_score2 = get_classes(l1, l2,l3,l4,l5)\n",
    "data = {'name': scores_df.names.to_list(), 'fat':fat1, 'economic':economy1,'social':social1,'cultural':cultural1, 'new_fat_words':new_fat_score1}\n",
    "class_df = pd.DataFrame(data)\n",
    "#grouping the tweets by username\n",
    "new_groups_df = class_df.groupby(['name']).sum()\n",
    "#add a new totals column\n",
    "new_groups_df['total'] = new_groups_df['fat'] + new_groups_df['economic'] + new_groups_df['social']+ new_groups_df['cultural'] + new_groups_df['new_fat_words'] \n",
    "#add a new totals row\n",
    "new_groups_df.loc[\"Total\"] = new_groups_df.sum()  \n",
    "\n",
    "fig = plt.figure(figsize =(10, 7)) \n",
    "a = new_groups_df.drop(['total'], axis = 1)\n",
    "plt.pie(a.loc['Total'], labels = a.columns)\n",
    "plt.title('A pie chart showing the volumes of tweets under different categories.')\n",
    "plt.show()"
   ]
  },
  {
   "cell_type": "code",
   "execution_count": null,
   "id": "b6234c8d",
   "metadata": {},
   "outputs": [],
   "source": [
    "\n"
   ]
  },
  {
   "cell_type": "code",
   "execution_count": 18,
   "id": "414033bc",
   "metadata": {},
   "outputs": [],
   "source": [
    "fat1, economy1, social1, cultural1, health1 = get_classes(l1, l2,l3,l4,l5)\n",
    "data = {'name': scores_df.names.to_list(), 'fat':fat1, 'economic':economy1,'social':social1,'cultural':cultural1, 'health':health1}\n",
    "class_df = pd.DataFrame(data)\n",
    "#grouping the tweets by username\n",
    "new_groups_df = class_df.groupby(['name']).sum()"
   ]
  },
  {
   "cell_type": "code",
   "execution_count": 19,
   "id": "8c1c4320",
   "metadata": {},
   "outputs": [
    {
     "data": {
      "text/html": [
       "<div>\n",
       "<style scoped>\n",
       "    .dataframe tbody tr th:only-of-type {\n",
       "        vertical-align: middle;\n",
       "    }\n",
       "\n",
       "    .dataframe tbody tr th {\n",
       "        vertical-align: top;\n",
       "    }\n",
       "\n",
       "    .dataframe thead th {\n",
       "        text-align: right;\n",
       "    }\n",
       "</style>\n",
       "<table border=\"1\" class=\"dataframe\">\n",
       "  <thead>\n",
       "    <tr style=\"text-align: right;\">\n",
       "      <th></th>\n",
       "      <th>fat</th>\n",
       "      <th>economic</th>\n",
       "      <th>social</th>\n",
       "      <th>cultural</th>\n",
       "      <th>health</th>\n",
       "    </tr>\n",
       "    <tr>\n",
       "      <th>name</th>\n",
       "      <th></th>\n",
       "      <th></th>\n",
       "      <th></th>\n",
       "      <th></th>\n",
       "      <th></th>\n",
       "    </tr>\n",
       "  </thead>\n",
       "  <tbody>\n",
       "    <tr>\n",
       "      <th>0000000003j</th>\n",
       "      <td>1</td>\n",
       "      <td>0</td>\n",
       "      <td>1</td>\n",
       "      <td>0</td>\n",
       "      <td>0</td>\n",
       "    </tr>\n",
       "    <tr>\n",
       "      <th>000000_flag</th>\n",
       "      <td>1</td>\n",
       "      <td>0</td>\n",
       "      <td>1</td>\n",
       "      <td>0</td>\n",
       "      <td>0</td>\n",
       "    </tr>\n",
       "    <tr>\n",
       "      <th>00000cals</th>\n",
       "      <td>2</td>\n",
       "      <td>0</td>\n",
       "      <td>2</td>\n",
       "      <td>0</td>\n",
       "      <td>0</td>\n",
       "    </tr>\n",
       "    <tr>\n",
       "      <th>00000codename</th>\n",
       "      <td>1</td>\n",
       "      <td>0</td>\n",
       "      <td>1</td>\n",
       "      <td>0</td>\n",
       "      <td>0</td>\n",
       "    </tr>\n",
       "    <tr>\n",
       "      <th>0000elicca0000</th>\n",
       "      <td>2</td>\n",
       "      <td>0</td>\n",
       "      <td>2</td>\n",
       "      <td>0</td>\n",
       "      <td>0</td>\n",
       "    </tr>\n",
       "  </tbody>\n",
       "</table>\n",
       "</div>"
      ],
      "text/plain": [
       "                fat  economic  social  cultural  health\n",
       "name                                                   \n",
       "0000000003j       1         0       1         0       0\n",
       "000000_flag       1         0       1         0       0\n",
       "00000cals         2         0       2         0       0\n",
       "00000codename     1         0       1         0       0\n",
       "0000elicca0000    2         0       2         0       0"
      ]
     },
     "execution_count": 19,
     "metadata": {},
     "output_type": "execute_result"
    }
   ],
   "source": [
    "new_groups_df.head()\n"
   ]
  },
  {
   "cell_type": "code",
   "execution_count": null,
   "id": "69bf6cc9",
   "metadata": {},
   "outputs": [],
   "source": []
  },
  {
   "cell_type": "code",
   "execution_count": null,
   "id": "9e3fdf37",
   "metadata": {},
   "outputs": [],
   "source": []
  },
  {
   "cell_type": "code",
   "execution_count": null,
   "id": "af337e17",
   "metadata": {},
   "outputs": [],
   "source": []
  },
  {
   "cell_type": "code",
   "execution_count": null,
   "id": "4ac81746",
   "metadata": {},
   "outputs": [],
   "source": []
  }
 ],
 "metadata": {
  "kernelspec": {
   "display_name": "Python 3 (ipykernel)",
   "language": "python",
   "name": "python3"
  },
  "language_info": {
   "codemirror_mode": {
    "name": "ipython",
    "version": 3
   },
   "file_extension": ".py",
   "mimetype": "text/x-python",
   "name": "python",
   "nbconvert_exporter": "python",
   "pygments_lexer": "ipython3",
   "version": "3.9.7"
  }
 },
 "nbformat": 4,
 "nbformat_minor": 5
}
