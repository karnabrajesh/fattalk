{
 "cells": [
  {
   "cell_type": "code",
   "execution_count": 1,
   "id": "496be225",
   "metadata": {},
   "outputs": [
    {
     "name": "stderr",
     "output_type": "stream",
     "text": [
      "[nltk_data] Downloading package punkt to\n",
      "[nltk_data]     /Users/brajeshkarna/nltk_data...\n",
      "[nltk_data]   Package punkt is already up-to-date!\n"
     ]
    },
    {
     "data": {
      "text/plain": [
       "True"
      ]
     },
     "execution_count": 1,
     "metadata": {},
     "output_type": "execute_result"
    }
   ],
   "source": [
    "import pandas as pd\n",
    "import numpy as np\n",
    "import seaborn as sns\n",
    "import matplotlib.pyplot as plt\n",
    "\n",
    "import re\n",
    "import preprocessor as p\n",
    "\n",
    "import string\n",
    "from string import punctuation\n",
    "\n",
    "import collections\n",
    "from collections import Counter\n",
    "\n",
    "import nltk\n",
    "from nltk.tokenize import RegexpTokenizer, WhitespaceTokenizer\n",
    "from nltk.stem import WordNetLemmatizer\n",
    "from nltk.corpus import stopwords\n",
    "\n",
    "\n",
    "from sklearn.feature_extraction.text import CountVectorizer,TfidfVectorizer\n",
    "from sklearn.feature_extraction.text import CountVectorizer, TfidfTransformer\n",
    "from sklearn.model_selection import train_test_split\n",
    "from sklearn.metrics.pairwise import cosine_similarity\n",
    "from sklearn.metrics import jaccard_score\n",
    "\n",
    "\n",
    "import en_core_web_sm\n",
    "nltk.download('punkt')"
   ]
  },
  {
   "cell_type": "markdown",
   "id": "c7c0da80",
   "metadata": {},
   "source": [
    "## Load Tweets"
   ]
  },
  {
   "cell_type": "code",
   "execution_count": 2,
   "id": "1b360a4d",
   "metadata": {},
   "outputs": [
    {
     "name": "stderr",
     "output_type": "stream",
     "text": [
      "/var/folders/d9/ghy46zzj2454k38j3h7282mr0000gn/T/ipykernel_5482/104894681.py:5: DtypeWarning: Columns (0,1,2,3,4,5,6,7,8,9,10,11,12,15,16,17,18,19,20,21,24,25,26,27) have mixed types.Specify dtype option on import or set low_memory=False.\n",
      "  tweetDf = LoadTweetFile()\n"
     ]
    }
   ],
   "source": [
    "def LoadTweetFile():\n",
    "    data = pd.read_csv(\"/Users/brajeshkarna/Documents/FatTalk/combined_tweets_2021.csv\")\n",
    "    return data\n",
    "\n",
    "tweetDf = LoadTweetFile()"
   ]
  },
  {
   "cell_type": "markdown",
   "id": "fe04cd25",
   "metadata": {},
   "source": [
    "### Select tweets for date range and clean tweets, remove hashtags too from the tweets"
   ]
  },
  {
   "cell_type": "code",
   "execution_count": 3,
   "id": "8f48d3c9",
   "metadata": {},
   "outputs": [],
   "source": [
    "tweets_bowl = pd.DataFrame(tweetDf[['user_id', 'tweet','tweet_created_at','user_username','searchquery']])\n",
    "#removing if there is string on date columns and making index and sorting by the date\n",
    "tweets_bowl['tweet_created_at'] = pd.to_datetime(tweets_bowl['tweet_created_at'], errors='coerce')\n",
    "tweets_bowl = tweets_bowl.dropna(subset=['tweet_created_at'])\n",
    "tweets_bowl = tweets_bowl.set_index(tweets_bowl['tweet_created_at'])\n",
    "tweets_bowl = tweets_bowl.sort_index()\n",
    "##Split data based on date\n",
    "tweets_bowl = tweets_bowl['2021-11-23': '2021-11-26']"
   ]
  },
  {
   "cell_type": "code",
   "execution_count": 4,
   "id": "9f95b1e5",
   "metadata": {},
   "outputs": [],
   "source": [
    "def clean_text(df, text_field):\n",
    "    df[text_field] = df[text_field].str.lower()\n",
    "    df['tweets'] = df[text_field].apply(lambda x: re.sub(r'(@[A-Za-z0–9]+)|([0-9A-Za-z \\t])|(\\w+:\\/\\/\\S+)|^rt|http.+?','', x)) \n",
    "    return df\n",
    "\n",
    "tweets_bowl = clean_text(tweets_bowl, 'tweet')\n",
    "\n",
    "REPLACE_NO_SPACE = re.compile(\"(\\.)|(\\;)|(\\:)|(\\!)|(\\')|(\\?)|(\\,)|(\\\")|(\\|)|(\\()|(\\))|(\\[)|(\\])|(\\%)|(\\$)|(\\>)|(\\<)|(\\{)|(\\})\")\n",
    "REPLACE_WITH_SPACE = re.compile(\"(<br\\s/><br\\s/?)|(-)|(/)|(:).\")\n",
    "\n",
    "def clean_tweets(df):\n",
    "  tempArr = []\n",
    "  for line in df:\n",
    "    p.set_options(p.OPT.URL, p.OPT.EMOJI, p.OPT.MENTION, p.OPT.SMILEY, p.OPT.NUMBER,p.OPT.RESERVED)\n",
    "    tmpL = p.clean(line)\n",
    "    tmpL = REPLACE_NO_SPACE.sub(\"\", tmpL.lower()) \n",
    "    tmpL = REPLACE_WITH_SPACE.sub(\" \", tmpL)\n",
    "    tempArr.append(tmpL)\n",
    "  return tempArr\n",
    "\n",
    "\n",
    "tweets_bowl['tweets'] = clean_tweets(tweets_bowl['tweet'])\n",
    "tweets_bowl['tweets'] = tweets_bowl['tweets'].apply(lambda x: x.replace('#', ''))"
   ]
  },
  {
   "cell_type": "markdown",
   "id": "6053b864",
   "metadata": {},
   "source": [
    "### Furnish tweets"
   ]
  },
  {
   "cell_type": "code",
   "execution_count": 5,
   "id": "3f5b6d62",
   "metadata": {},
   "outputs": [],
   "source": [
    "nlp = en_core_web_sm.load()\n",
    "tokenizer = RegexpTokenizer(r'\\w+')\n",
    "lemmatizer = WordNetLemmatizer()\n",
    "stop = set(stopwords.words('english'))\n",
    "punctuation = list(string.punctuation)\n",
    "stop.update(punctuation)\n",
    "w_tokenizer = WhitespaceTokenizer()\n",
    "\n",
    "def furnished(text):\n",
    "    final_text = []\n",
    "    for i in w_tokenizer.tokenize(text):\n",
    "       if i.lower() not in stop:\n",
    "           word = lemmatizer.lemmatize(i)\n",
    "           final_text.append(word.lower())\n",
    "    return \" \".join(final_text)\n",
    "\n",
    "\n",
    "tweets_bowl.tweets = tweets_bowl.tweets.apply(furnished)"
   ]
  },
  {
   "cell_type": "markdown",
   "id": "0283956e",
   "metadata": {},
   "source": [
    "### Dictionary words for domains"
   ]
  },
  {
   "cell_type": "code",
   "execution_count": 6,
   "id": "da43b639",
   "metadata": {},
   "outputs": [],
   "source": [
    "fat_related_words = '''Heavy Excess weight Excess fat Overweight Big Weight problem Obese Obesity\n",
    "Obeast Large Large size Hefty High BMI Fat Fatness heffer Huge Thick Thicc/thiccc Thict thic fit\n",
    "Thiccums Thickie THICCCCC Thickness Plump plumper Round Unfit Fluffy unhealthy Unhealthy BMI Unhealthy weight\n",
    "BMI Unhealthy body weight Heaviness Back fat Gaining weight Normal weight Chubby Chubble Chubbin’\n",
    "Chubblies chubby breasts Chubba Chubby rubby Gordo Morbid obesity Plus size Curvy Full figured\n",
    "Weight problem Big boned Well endowed Big girl Fat slob Voluptuous Husky Huskaroo Chunky Piernuda leggy referring to thigh size\n",
    "Nalgona big butt Fat ass FUPA fat upper pubic area FUPA fat upper pussy area Phanny pack same as FUPA Fat fuck\n",
    "Fat fucking'''"
   ]
  },
  {
   "cell_type": "code",
   "execution_count": 7,
   "id": "698c8943",
   "metadata": {},
   "outputs": [],
   "source": [
    "economy_related_words = '''agriculture infrastructure capitalism trading service sector technology  economical supply \n",
    "industrialism efficiency frugality retrenchment downsizing   credit debit value \n",
    "economize   save  economically\n",
    "economies sluggish rise   rising spending conserve trend \n",
    "low-management  decline   industry impact poor  \n",
    "profession    surplus   fall\n",
    "declining  accelerating interest sectors balance stability productivity increase rates\n",
    "pushing expanding stabilize  rate industrial borrowing struggling\n",
    "deficit predicted    increasing  data\n",
    "economizer analysts investment market-based economy   debt free enterprise\n",
    "medium  exchange metric savepoint scarcity capital bank company stockholder fund business  \n",
    "asset treasury tourism incomes contraction employment jobs upturn deflation  macroeconomics\n",
    "bankruptcies exporters hyperinflation dollar entrepreneurship upswing marketplace commerce devaluation \n",
    "quicksave deindustrialization stockmarket reflation downspin dollarization withholder bankroll venture capital\n",
    "mutual fund plan economy mortgage lender unemployment rate credit crunch central bank financial institution\n",
    "bank rate custom duties mass-production black-market developing-countries developing economic-growth gdp trade barter \n",
    "distribution downturn economist'''"
   ]
  },
  {
   "cell_type": "code",
   "execution_count": 8,
   "id": "190f7066",
   "metadata": {},
   "outputs": [],
   "source": [
    "social_related_words = '''sociable, gregarious societal friendly society socialization political  sociality \n",
    "interpersonal  ethnic socially party welfare public community socialist societies development\n",
    "network humans socialism collective personal corporation social constructivism\n",
    "relations volition citizenship brute   attitude rights socio \n",
    "socioeconomic ethics civic communal marital  sociale socialized communities     \n",
    "policy   unions        \n",
    "institutions values     governmental   organizations jamboree \n",
    "festivity    fairness  support  care  \n",
    "sides   activism     unsocial psychosocial \n",
    "socializing psychological distributional  demographic  participation reunion \n",
    "partygoer partyism festive power network gala housewarming celebration counterparty   social-war\n",
    "particularist interactional ideational asocial'''"
   ]
  },
  {
   "cell_type": "code",
   "execution_count": 9,
   "id": "8ed7cc5f",
   "metadata": {},
   "outputs": [],
   "source": [
    "culture_related_words  = ''' ethnicity heritage modernity spirituality marxismmaterial culture \n",
    "ethos nationality humanism romanticism civilisation traditionalism genetics\n",
    "kinship heredity marriage   indigenous  archeology  acculturate  \n",
    "ontogenesis viniculture modern clothes     rooted \n",
    "cicero societies history roots influence geography historical folk origins \n",
    "phenomenon teleology ancient aspects perspective liberalism nowadays community style unique prevalent describes \n",
    "today  origin   modernity beliefs  genre barbarian ethnic \n",
    "colonization cultural universal organization western-civilization structuralism  culture \n",
    "heathen pagan transculturation culture peasant classicist nativism anarchy ungrown philosophic cult  \n",
    "consciousness islamist bro-culture evolve cultic diaspora aftergrowth native cultural-relativism  \n",
    "mongolian cosmopolitan epistemology lifestyles diversity chauvinism westernization materialism vernacular \n",
    "homogeneity otherness holism tusculanae disputationes primitivism superficiality hedonism discourse\n",
    "puritanism modernism intellectualism  exclusiveness elitism  colonialism  \n",
    "pentecostalism paganism nationwide expansion rural  auxesis kimono \n",
    "culturize alethophobia nettlebed japanification  dongyi clannishness insularity hybridity\n",
    "westernisation foreignness worldview exclusionism enculturation ethnocentrism  confucianist vulgarization\n",
    "shintoism  westernism denominationalism    deracination\n",
    "eurocentrism  cosmologies  emotiveness bohemianism territorialism\n",
    "philosophical-doctrine ethnic minority social-darwinism  theory cultural evolution belief systemfolk music \n",
    "traditional art house karl-marx   theorymedia  \n",
    "film-theory art history museum studies cultural artifact'''"
   ]
  },
  {
   "cell_type": "code",
   "execution_count": 10,
   "id": "429323ff",
   "metadata": {},
   "outputs": [],
   "source": [
    "health_related_words = '''disease obesity world health organization medicine nutrition well-being exercise welfare wellness health care public health \n",
    "nursing stress safety hygiene research social healthy condition aids epidemiology healthiness wellbeing\n",
    "care illness medical dieteducation infectious disease environmental healthcare physical fitness hospitals \n",
    "health care provider doctors healthy community design insurance sanitation human body patient mental health\n",
    "medicare agriculture health science fitnesshealth policy  weight loss physical therapy psychology pharmacy\n",
    "metabolic organism human lifestyle status unhealthy upbeat vaccination sleep condom alcohol smoking water family\n",
    "eudaimonia eudaemonia air house prevention genetics public families poor needs treatment communicable disease \n",
    "study protection malaria development food priority management healthful mental provide department administration\n",
    "programs help assistance funding environment improving emergency need program affected schools private mental illness \n",
    "treat diseases preparedness perinatal fertility sickness veterinary sanitary pharmacists behavioral midwives\n",
    "gerontology infertility hospitalization midwifery cholesterol childcare pediatrician pediatrics medicaid asthma \n",
    "pensions sicknesses push-up physical education body-mass-index eat well gymnastic apparatus tune up good morning \n",
    "bathing low blood-pressure heart attack health club ride-bike you feel good eczema urticaria dermatitis sunburn overwork \n",
    "manufacturing medical sociology need exercise run'''"
   ]
  },
  {
   "cell_type": "code",
   "execution_count": 11,
   "id": "84457d9d",
   "metadata": {},
   "outputs": [],
   "source": [
    "fat = furnished(fat_related_words.lower())\n",
    "economy = furnished(economy_related_words)\n",
    "social = furnished(social_related_words)\n",
    "cultural = furnished(culture_related_words)\n",
    "health = furnished(health_related_words)"
   ]
  },
  {
   "cell_type": "code",
   "execution_count": 12,
   "id": "ee20d334",
   "metadata": {},
   "outputs": [
    {
     "data": {
      "text/plain": [
       "'disease obesity world health organization medicine nutrition well-being exercise welfare wellness care public nursing stress safety hygiene research social healthy condition aid epidemiology healthiness wellbeing illness medical dieteducation infectious environmental healthcare physical fitness hospital provider doctor community design insurance sanitation human body patient mental medicare agriculture science fitnesshealth policy weight loss therapy psychology pharmacy metabolic organism lifestyle status unhealthy upbeat vaccination sleep condom alcohol smoking water family eudaimonia eudaemonia air house prevention genetics poor need treatment communicable study protection malaria development food priority management healthful provide department administration program help assistance funding environment improving emergency affected school private treat preparedness perinatal fertility sickness veterinary sanitary pharmacist behavioral midwife gerontology infertility hospitalization midwifery cholesterol childcare pediatrician pediatrics medicaid asthma pension push-up education body-mass-index eat well gymnastic apparatus tune good morning bathing low blood-pressure heart attack club ride-bike feel eczema urticaria dermatitis sunburn overwork manufacturing sociology run'"
      ]
     },
     "execution_count": 12,
     "metadata": {},
     "output_type": "execute_result"
    }
   ],
   "source": [
    "string1 = fat\n",
    "words = string1.split()\n",
    "fat = \" \".join(sorted(set(words), key=words.index))\n",
    "fat\n",
    "\n",
    "string2 = economy\n",
    "words = string2.split()\n",
    "economy = \" \".join(sorted(set(words), key=words.index))\n",
    "economy\n",
    "\n",
    "string3 = social\n",
    "words = string3.split()\n",
    "social = \" \".join(sorted(set(words), key=words.index))\n",
    "social\n",
    "\n",
    "string4 = cultural\n",
    "words = string4.split()\n",
    "cultural = \" \".join(sorted(set(words), key=words.index))\n",
    "cultural\n",
    "\n",
    "string5 = health\n",
    "words = string5.split()\n",
    "health = \" \".join(sorted(set(words), key=words.index))\n",
    "health"
   ]
  },
  {
   "cell_type": "markdown",
   "id": "b88c8774",
   "metadata": {},
   "source": [
    "### Jaccard Similarity Scores"
   ]
  },
  {
   "cell_type": "code",
   "execution_count": 13,
   "id": "78dfac04",
   "metadata": {},
   "outputs": [],
   "source": [
    "def jaccard_similarity(query, document):\n",
    "    intersection = set(query).intersection(set(document))\n",
    "    union = set(query).union(set(document))\n",
    "    return len(intersection)/len(union)\n",
    "\n",
    "def get_scores(group,tweets):\n",
    "    scores = []\n",
    "    for tweet in tweets:\n",
    "        s = jaccard_similarity(group, tweet)\n",
    "        scores.append(s)\n",
    "    return scores\n",
    "\n",
    "f_scores = get_scores(fat, tweets_bowl.tweets.to_list())\n",
    "e_scores = get_scores(economy, tweets_bowl.tweets.to_list())\n",
    "s_scores = get_scores(social, tweets_bowl.tweets.to_list())\n",
    "c_scores = get_scores(cultural, tweets_bowl.tweets.to_list())\n",
    "h_scores = get_scores(health, tweets_bowl.tweets.to_list())\n",
    "\n",
    "\n",
    "# create a jaccard scored df.\n",
    "data  = {'names':tweets_bowl.user_username.to_list(),'fat_score': f_scores,'economic_score':e_scores,'social_score':s_scores,'cultural_score':c_scores,'health_score':h_scores}\n",
    "\n",
    "scores_df = pd.DataFrame(data)"
   ]
  },
  {
   "cell_type": "code",
   "execution_count": 14,
   "id": "020f5eea",
   "metadata": {},
   "outputs": [],
   "source": [
    "def get_classes(l1, l2,l3,l4,l5):\n",
    "    fat1 = []\n",
    "    economy1 = []\n",
    "    social1 = []\n",
    "    cultural1 = []\n",
    "    health1 =[]\n",
    "    \n",
    "    for i, j,k,l,n in zip(l1, l2,l3,l4,l5):\n",
    "        m = max(i, j)\n",
    "        if m == i:\n",
    "            fat1.append(1)\n",
    "        else:\n",
    "            fat1.append(0) \n",
    "        if m == j:\n",
    "            economy1.append(1)\n",
    "        else:\n",
    "            economy1.append(0)\n",
    "        if m == k:\n",
    "            social1.append(1)\n",
    "        else:\n",
    "            social1.append(0)   \n",
    "        if m == l:\n",
    "            cultural1.append(1)\n",
    "        else:\n",
    "            cultural1.append(0)   \n",
    "        if m == n:\n",
    "            health1.append(1)\n",
    "        else:\n",
    "            health1.append(0) \n",
    "            \n",
    "    return fat1,economy1,social1,cultural1,health1\n",
    "\n",
    "l1 = scores_df.fat_score.to_list()\n",
    "l2 = scores_df.economic_score.to_list()\n",
    "l3 = scores_df.social_score.to_list()\n",
    "l4 = scores_df.cultural_score.to_list()\n",
    "l5 = scores_df.health_score.to_list()\n"
   ]
  },
  {
   "cell_type": "code",
   "execution_count": 15,
   "id": "3fe3f0e0",
   "metadata": {},
   "outputs": [
    {
     "data": {
      "image/png": "[encoded data removed]",
      "text/plain": [
       "<Figure size 720x504 with 1 Axes>"
      ]
     },
     "metadata": {},
     "output_type": "display_data"
    }
   ],
   "source": [
    "fat1, economy1, social1, cultural1, health1 = get_classes(l1, l2,l3,l4,l5)\n",
    "data = {'name': scores_df.names.to_list(), 'fat':fat1, 'economic':economy1,'social':social1,'cultural':cultural1, 'health':health1}\n",
    "class_df = pd.DataFrame(data)\n",
    "#grouping the tweets by username\n",
    "new_groups_df = class_df.groupby(['name']).sum()\n",
    "#add a new totals column\n",
    "new_groups_df['total'] = new_groups_df['fat'] + new_groups_df['economic'] + new_groups_df['social']+ new_groups_df['cultural'] + new_groups_df['health'] \n",
    "#add a new totals row\n",
    "new_groups_df.loc[\"Total\"] = new_groups_df.sum()  \n",
    "\n",
    "fig = plt.figure(figsize =(10, 7)) \n",
    "a = new_groups_df.drop(['total'], axis = 1)\n",
    "plt.pie(a.loc['Total'], labels = a.columns)\n",
    "plt.title('A pie chart showing the volumes of tweets under different categories.')\n",
    "plt.show()\n"
   ]
  },
  {
   "cell_type": "code",
   "execution_count": 16,
   "id": "414033bc",
   "metadata": {},
   "outputs": [],
   "source": [
    "fat1, economy1, social1, cultural1, health1 = get_classes(l1, l2,l3,l4,l5)\n",
    "data = {'name': scores_df.names.to_list(), 'fat':fat1, 'economic':economy1,'social':social1,'cultural':cultural1, 'health':health1}\n",
    "class_df = pd.DataFrame(data)\n",
    "#grouping the tweets by username\n",
    "new_groups_df = class_df.groupby(['name']).sum()"
   ]
  },
  {
   "cell_type": "code",
   "execution_count": 17,
   "id": "8c1c4320",
   "metadata": {},
   "outputs": [
    {
     "data": {
      "text/html": [
       "<div>\n",
       "<style scoped>\n",
       "    .dataframe tbody tr th:only-of-type {\n",
       "        vertical-align: middle;\n",
       "    }\n",
       "\n",
       "    .dataframe tbody tr th {\n",
       "        vertical-align: top;\n",
       "    }\n",
       "\n",
       "    .dataframe thead th {\n",
       "        text-align: right;\n",
       "    }\n",
       "</style>\n",
       "<table border=\"1\" class=\"dataframe\">\n",
       "  <thead>\n",
       "    <tr style=\"text-align: right;\">\n",
       "      <th></th>\n",
       "      <th>fat</th>\n",
       "      <th>economic</th>\n",
       "      <th>social</th>\n",
       "      <th>cultural</th>\n",
       "      <th>health</th>\n",
       "    </tr>\n",
       "    <tr>\n",
       "      <th>name</th>\n",
       "      <th></th>\n",
       "      <th></th>\n",
       "      <th></th>\n",
       "      <th></th>\n",
       "      <th></th>\n",
       "    </tr>\n",
       "  </thead>\n",
       "  <tbody>\n",
       "    <tr>\n",
       "      <th>0000seapea808</th>\n",
       "      <td>1</td>\n",
       "      <td>0</td>\n",
       "      <td>1</td>\n",
       "      <td>0</td>\n",
       "      <td>0</td>\n",
       "    </tr>\n",
       "    <tr>\n",
       "      <th>0007Tiara</th>\n",
       "      <td>1</td>\n",
       "      <td>0</td>\n",
       "      <td>1</td>\n",
       "      <td>0</td>\n",
       "      <td>0</td>\n",
       "    </tr>\n",
       "    <tr>\n",
       "      <th>000Tension</th>\n",
       "      <td>1</td>\n",
       "      <td>0</td>\n",
       "      <td>1</td>\n",
       "      <td>0</td>\n",
       "      <td>0</td>\n",
       "    </tr>\n",
       "    <tr>\n",
       "      <th>000_Rhiz</th>\n",
       "      <td>1</td>\n",
       "      <td>0</td>\n",
       "      <td>0</td>\n",
       "      <td>0</td>\n",
       "      <td>0</td>\n",
       "    </tr>\n",
       "    <tr>\n",
       "      <th>000skinni</th>\n",
       "      <td>2</td>\n",
       "      <td>0</td>\n",
       "      <td>1</td>\n",
       "      <td>0</td>\n",
       "      <td>0</td>\n",
       "    </tr>\n",
       "  </tbody>\n",
       "</table>\n",
       "</div>"
      ],
      "text/plain": [
       "               fat  economic  social  cultural  health\n",
       "name                                                  \n",
       "0000seapea808    1         0       1         0       0\n",
       "0007Tiara        1         0       1         0       0\n",
       "000Tension       1         0       1         0       0\n",
       "000_Rhiz         1         0       0         0       0\n",
       "000skinni        2         0       1         0       0"
      ]
     },
     "execution_count": 17,
     "metadata": {},
     "output_type": "execute_result"
    }
   ],
   "source": [
    "new_groups_df.head()\n"
   ]
  },
  {
   "cell_type": "code",
   "execution_count": 18,
   "id": "69bf6cc9",
   "metadata": {},
   "outputs": [],
   "source": [
    "from sklearn.cluster import AgglomerativeClustering\n",
    "from scipy.cluster.hierarchy import dendrogram, linkage\n",
    "\n",
    "\n",
    "X = np.array(new_groups_df.iloc[:,[0,1,2,3,4]].values)"
   ]
  },
  {
   "cell_type": "code",
   "execution_count": 19,
   "id": "9e3fdf37",
   "metadata": {},
   "outputs": [],
   "source": [
    "model = AgglomerativeClustering(n_clusters=5, affinity='euclidean', linkage='ward')\n",
    "model.fit(X)\n",
    "labels = model.labels_"
   ]
  },
  {
   "cell_type": "code",
   "execution_count": 20,
   "id": "af337e17",
   "metadata": {},
   "outputs": [
    {
     "data": {
      "image/png": "[encoded data removed]",
      "text/plain": [
       "<Figure size 432x288 with 1 Axes>"
      ]
     },
     "metadata": {
      "needs_background": "light"
     },
     "output_type": "display_data"
    }
   ],
   "source": [
    "plt.scatter(X[labels==0, 0], X[labels==0, 1], s=50, marker='o', color='red')\n",
    "plt.scatter(X[labels==1, 0], X[labels==1, 1], s=50, marker='o', color='blue')\n",
    "plt.scatter(X[labels==2, 0], X[labels==2, 1], s=50, marker='o', color='green')\n",
    "plt.scatter(X[labels==3, 0], X[labels==3, 1], s=50, marker='o', color='purple')\n",
    "plt.scatter(X[labels==4, 0], X[labels==4, 1], s=50, marker='o', color='orange')\n",
    "plt.show()"
   ]
  }
 ],
 "metadata": {
  "kernelspec": {
   "display_name": "Python 3 (ipykernel)",
   "language": "python",
   "name": "python3"
  },
  "language_info": {
   "codemirror_mode": {
    "name": "ipython",
    "version": 3
   },
   "file_extension": ".py",
   "mimetype": "text/x-python",
   "name": "python",
   "nbconvert_exporter": "python",
   "pygments_lexer": "ipython3",
   "version": "3.9.7"
  }
 },
 "nbformat": 4,
 "nbformat_minor": 5
}
